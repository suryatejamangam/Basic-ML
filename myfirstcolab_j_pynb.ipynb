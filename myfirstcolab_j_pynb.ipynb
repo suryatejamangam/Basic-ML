{
  "nbformat": 4,
  "nbformat_minor": 0,
  "metadata": {
    "colab": {
      "name": "myfirstcolab.j pynb",
      "provenance": [],
      "authorship_tag": "ABX9TyOT0KK/VO46151vGDAmnWUC",
      "include_colab_link": true
    },
    "kernelspec": {
      "name": "python3",
      "display_name": "Python 3"
    },
    "language_info": {
      "name": "python"
    }
  },
  "cells": [
    {
      "cell_type": "markdown",
      "metadata": {
        "id": "view-in-github",
        "colab_type": "text"
      },
      "source": [
        "<a href=\"https://colab.research.google.com/github/suryatejamangam/Basic-ML/blob/main/myfirstcolab_j_pynb.ipynb\" target=\"_parent\"><img src=\"https://colab.research.google.com/assets/colab-badge.svg\" alt=\"Open In Colab\"/></a>"
      ]
    },
    {
      "cell_type": "markdown",
      "metadata": {
        "id": "eZltFua_fAh_"
      },
      "source": [
        "**Python program for finding factorial:**"
      ]
    },
    {
      "cell_type": "code",
      "metadata": {
        "colab": {
          "base_uri": "https://localhost:8080/"
        },
        "id": "gL6f3YTXe_ZB",
        "outputId": "3da3be7b-353d-4b34-eeac-babde5ea173b"
      },
      "source": [
        "N = int(input(\"Enter a number: \"))    \n",
        "factorial = 1    \n",
        "if N < 0:    \n",
        "   print(\" Factorial does not exist for negative numbers\")    \n",
        "elif N == 0:    \n",
        "   print(\"The factorial of 0 is 1\")    \n",
        "else:    \n",
        "   for i in range(1,N+ 1):    \n",
        "       factorial = factorial*i    \n",
        "   print(\"The factorial of\",N,\"is\",factorial)"
      ],
      "execution_count": 1,
      "outputs": [
        {
          "output_type": "stream",
          "name": "stdout",
          "text": [
            "Enter a number: 5\n",
            "The factorial of 5 is 120\n"
          ]
        }
      ]
    },
    {
      "cell_type": "markdown",
      "metadata": {
        "id": "myZ65W1uf7D1"
      },
      "source": [
        "***Python program for finding sum of N natural numbers:***"
      ]
    },
    {
      "cell_type": "code",
      "metadata": {
        "colab": {
          "base_uri": "https://localhost:8080/"
        },
        "id": "njF8MpeWf7Wn",
        "outputId": "496076be-e782-4e95-dc80-54c509c19f9f"
      },
      "source": [
        "N = int(input())\n",
        "\n",
        "if N< 0:\n",
        "   print(\"Enter a positive number\")\n",
        "else:\n",
        "   sum = 0\n",
        "   # use while loop to iterate until zero\n",
        "   while(N > 0):\n",
        "       sum +=N \n",
        "       N -= 1\n",
        "   print(\"The sum is\", sum)"
      ],
      "execution_count": 2,
      "outputs": [
        {
          "output_type": "stream",
          "name": "stdout",
          "text": [
            "45\n",
            "The sum is 1035\n"
          ]
        }
      ]
    },
    {
      "cell_type": "markdown",
      "metadata": {
        "id": "eh_eroydf7o9"
      },
      "source": [
        "**Python program for finding whether even or odd:**"
      ]
    },
    {
      "cell_type": "code",
      "metadata": {
        "colab": {
          "base_uri": "https://localhost:8080/"
        },
        "id": "fcArVOVyf77z",
        "outputId": "a5a24cf5-4b23-4d15-b343-17efce7997a6"
      },
      "source": [
        "N=int(input())\n",
        "if N%2==0:\n",
        "    print(\"Even\")\n",
        "else:\n",
        "    print(\"Odd\")"
      ],
      "execution_count": 3,
      "outputs": [
        {
          "output_type": "stream",
          "name": "stdout",
          "text": [
            "43\n",
            "Odd\n"
          ]
        }
      ]
    }
  ]
}